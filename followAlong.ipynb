{
 "cells": [
  {
   "cell_type": "code",
   "execution_count": null,
   "metadata": {},
   "outputs": [],
   "source": [
    "# a file for following along with \"How to use BERTopic - Machine Learning Assisted Topic Modeling in Python\" as noted in recommendation.tx\n",
    "# to sucessfully run this file run pip install bertopic -- also I don't have the data the author does so I can't run it :( - we can try with another data set"
   ]
  },
  {
   "cell_type": "code",
   "execution_count": null,
   "metadata": {},
   "outputs": [],
   "source": [
    "from bertopic import BERTopic # the main model\n",
    "import json\n",
    "import pandas as pd # to interact with and display the data"
   ]
  },
  {
   "cell_type": "code",
   "execution_count": null,
   "metadata": {},
   "outputs": [],
   "source": [
    "# opens our data - in this case, details of victums of human rights violations (digital humanities dataset)\n",
    "with open(\"data/vol7.json\", \"r\", encoding=\"utf-8\") as file:\n",
    "    docs = json.load(file)[\"descriptions\"] # grabs the descriptions of the violations\n",
    "len(docs)"
   ]
  },
  {
   "cell_type": "code",
   "execution_count": null,
   "metadata": {},
   "outputs": [],
   "source": [
    "# topic model from BERTopic \n",
    "topic_model = BERTopic(embedding_model= \"all-MiniLM-L6-v2\") # transformer model used to embed the documents"
   ]
  },
  {
   "cell_type": "code",
   "execution_count": null,
   "metadata": {},
   "outputs": [],
   "source": [
    "topics, probs = topic_model.fit_transform(docs) # takes in the doc string and embeds and predicts about where topics are clustered\n",
    "# takes 5 - 20 minutes to run"
   ]
  },
  {
   "cell_type": "code",
   "execution_count": null,
   "metadata": {},
   "outputs": [],
   "source": [
    "topic_model.get_topic_info() # outputs a table with topic number, count, and name! In his example there were 410 different topics\n",
    "# the count refers to how many docs were grouped under each topics, the name is the topic number and top four shared words among the docs\n",
    "# topic group -1 are the outliers. In this case there were 5419 (~25% of the data) which is quite common with BERT. Can analyze outliers. "
   ]
  },
  {
   "cell_type": "code",
   "execution_count": null,
   "metadata": {},
   "outputs": [],
   "source": [
    "topic_model.get_topic(0) # pulls up a list of more words associated with topic number 0\n",
    "# leverage of setence transformers allows stop words to show up in these descriptions which helps display a larger context"
   ]
  },
  {
   "cell_type": "code",
   "execution_count": null,
   "metadata": {},
   "outputs": [],
   "source": [
    "topic_model.get_representative_docs(0) # extracts the representative docs of the chosen topic"
   ]
  },
  {
   "cell_type": "code",
   "execution_count": null,
   "metadata": {},
   "outputs": [],
   "source": [
    "df = pd.DataFrame({\"topic\": topics, \"document\": docs}) # presents a data frame of all documents with topic added as a component to each"
   ]
  },
  {
   "cell_type": "code",
   "execution_count": null,
   "metadata": {},
   "outputs": [],
   "source": [
    "topic_model.visualize_topics() # gives you a 2D intertopic distance map of circles that represent clusters of topics - no outliers \n",
    "# distances represents semantic distance"
   ]
  },
  {
   "cell_type": "code",
   "execution_count": null,
   "metadata": {},
   "outputs": [],
   "source": [
    "topic_model.visualize_barchart() # visualizes topics as a barchart"
   ]
  }
 ],
 "metadata": {
  "kernelspec": {
   "display_name": ".venv",
   "language": "python",
   "name": "python3"
  },
  "language_info": {
   "codemirror_mode": {
    "name": "ipython",
    "version": 3
   },
   "file_extension": ".py",
   "mimetype": "text/x-python",
   "name": "python",
   "nbconvert_exporter": "python",
   "pygments_lexer": "ipython3",
   "version": "3.9.6"
  },
  "orig_nbformat": 4
 },
 "nbformat": 4,
 "nbformat_minor": 2
}
